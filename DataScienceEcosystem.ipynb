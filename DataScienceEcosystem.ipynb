{
 "cells": [
  {
   "cell_type": "markdown",
   "id": "686ca50f-a0c4-46f0-8b7a-82258caed9a9",
   "metadata": {},
   "source": [
    "# Data Science Tools and Ecosystem"
   ]
  },
  {
   "cell_type": "markdown",
   "id": "dee641a4-afd4-4020-9d58-5bf7b29beb8b",
   "metadata": {},
   "source": [
    "## INTRODUCTION\n",
    "\n",
    "   HI I AM SURAJ FROM SRMIST.\n",
    "   \n",
    "   In this notebook, Data Science Tools and Ecosystem are summarized."
   ]
  },
  {
   "cell_type": "markdown",
   "id": "76e08ac4-b644-4d89-a8ee-6f475f5a3613",
   "metadata": {},
   "source": [
    "## DATA SCIENCE LANGUAGES\n",
    "Some of the popular languages that Data Scientists use are:\n",
    "- PYTHON\n",
    "- R\n",
    "- JULIA\n",
    "- SQL\n",
    "- MATLAB"
   ]
  },
  {
   "cell_type": "markdown",
   "id": "099f21ab-4497-40f7-b15b-9c94936aa056",
   "metadata": {},
   "source": [
    "## DATA SCIENCE LIBRARY\n",
    "Some of the commonly used libraries used by Data Scientists include:\n",
    "- numpy\n",
    "- pandas\n",
    "- matplotlib\n",
    "- seaborn\n",
    "- sklit\n",
    "- TensorFlow\n",
    "- keras\n",
    "- Scipy"
   ]
  },
  {
   "cell_type": "markdown",
   "id": "926ede2b-bb8b-49c2-bc90-8f85dc6bd30f",
   "metadata": {},
   "source": [
    "## Data Science Tools\n",
    "\n",
    "Here is a table summarizing some popular data science tools:\n",
    "\n",
    "| Tool Name          | Description                                       | Main Use Cases               |\n",
    "|--------------------|---------------------------------------------------|-----------------------------  \n",
    "| **thon**         | A versatile programming language with rich data science libraries. | Data analysis, machine learning, web scrapin  g|   *R**              | Statistical language with strong data visualization capabilities. | Statistical analysis, data visualizati |\n",
    "| **Jupyter Nebooks** | An interactive computing environment for creating and sharing documents with live code, equations, visualizations, and narrative text. | Data exploration, research, and documentat. |\n",
    "| **IBM Wats Studio** | A cloud-based data science platform with tools for collaboration, data exploration, and model building. | End-to-end data science proje  s. |\n",
    "|*Tableau**        | A data visualization tool with a user-friendly interface. | Creating interactive data dashbods. |\n",
    "| **A  che Spark**   | An open-source distributed computing framework for big data processing. | Big data processing, analics. |  | **Docker**         | A containerization platform for packaging and deploying applications. | Creating reproducible data science enviroent   |\n",
    "| **Git**            | A version control system for tracking changes in code and collaborative development. | Managing code versions and collabation.  \n",
    "| **GitHub**         | A web-based platform for hosting and sharing Git repositories. | Hosting and collaborating on code ojects. |\n",
    "|  *scikit-learn**   | A machine learning library for Python with a simple and efficient API. | Building and deploying machine learni model   |\n",
    "| **Pandas**         | A Python library for data manipulation and analysis. | Data cleaning and preocess  g. |\n",
    "| **D3.js**          | A JavaScript library for creating interactive data visualizations in web browsers. | Custom data viese tools valuable.\n",
    "se tools valuable.\n"
   ]
  },
  {
   "cell_type": "markdown",
   "id": "a1daf752-cc26-44bf-80b0-3103fe83df13",
   "metadata": {},
   "source": [
    "## Arithmetic Expression Examples\n",
    "\n",
    "Below are a few examples of evaluating arithmetic expressions in Python\n",
    "\n",
    "- **Addion (+)**: Adding two or more numbers together. For example, 2 + 3 equal5.\n",
    "\n",
    "- **Subtrtion (-)**: Subtracting one number from another. For example, 7 - 4 equs 3.\n",
    "\n",
    "- **Multipcation (*)**: Multiplying two or more numbers. For example, 5 * 6 eqls 30.\n",
    "\n",
    "- Division (/)**: Dividing one number by another. For example, 10 /r  operations:\n",
    "\n",
    "**Parentheses (())**: Changing the order of operations. For example, (2 + 3* 4 equals 20.\n",
    "-*Exponents (^ or **)**: Raising a number to a power. For example, 2explore these expressions further.\n"
   ]
  },
  {
   "cell_type": "code",
   "execution_count": 1,
   "id": "295dd83c-7cdf-4756-85f4-e3c1c7a33f23",
   "metadata": {},
   "outputs": [
    {
     "name": "stdout",
     "output_type": "stream",
     "text": [
      "15\n",
      "50\n"
     ]
    }
   ],
   "source": [
    "a=5\n",
    "b=10\n",
    "sum=a+b\n",
    "mul=a*b\n",
    "print(sum)\n",
    "print(mul)"
   ]
  },
  {
   "cell_type": "code",
   "execution_count": 2,
   "id": "6964dbfb-1455-47e4-9492-8bb5936a2eae",
   "metadata": {},
   "outputs": [
    {
     "name": "stdout",
     "output_type": "stream",
     "text": [
      "2.0\n"
     ]
    }
   ],
   "source": [
    "minutes = 120\n",
    "\n",
    "hours = minutes / 60\n",
    "\n",
    "print(hours)\n",
    "\n"
   ]
  },
  {
   "cell_type": "markdown",
   "id": "1024cba3-c1af-4369-88ce-693f1d1f4679",
   "metadata": {},
   "source": [
    "## Objectives:\n",
    "\n",
    "\n",
    "1. **Data Collecon**: Gather and compile the necessary data required for analysis or the project's goals.\n",
    "2. **Data Preprocsing**: Clean, transform, and prepare the data for analysis or modeling. This includes handling missing values, outliers, and data normalization\n",
    "\n",
    "3. **Exploratory Data Analys (EDA)**: Conduct an in-depth exploration of the data to gain insights, identify patterns, and visualize tren.\n",
    "\n",
    "4. **StatisticaAnalysis**: Perform relevant statistical analyses to uncover relationships, correlations, or significant findings within the ta.\n",
    "\n",
    "5. **Machine Learng Modeling**: If applicable, build and train machine learning models to make predictions or solve a specific pblem.\n",
    "\n",
    "6. **Dataisualization**: Create informative and visually appealing plots and charts to communicate findings efftively.\n",
    "\n",
    "7. **Interpretatn and Insights**: Interpret the results of analyses and models, drawing meaningful conclusions and actionablinsights.\n",
    "\n",
    "8. **Documentation**: Document the entire process, including data sources, methodology, and results, for transparency and repducibility.\n",
    "\n",
    "9. **Presentation**: Prepare a presentation or report to convey the project's findings and insights to stakeholders oan audience\n",
    "\n",
    "10. **Future Work**: Discuss potential future work, improvements, or extens presenting the results.\n"
   ]
  },
  {
   "cell_type": "markdown",
   "id": "79c91823-95b9-499d-89f0-2ee3893d61ab",
   "metadata": {},
   "source": [
    "## Author\n",
    "\n",
    "SURAJ HONDAPPANAVAR\n",
    "\n"
   ]
  },
  {
   "cell_type": "code",
   "execution_count": null,
   "id": "62828af0-dd86-4ce0-bd55-70a4f4fa3ee2",
   "metadata": {},
   "outputs": [],
   "source": []
  }
 ],
 "metadata": {
  "kernelspec": {
   "display_name": "Python 3 (ipykernel)",
   "language": "python",
   "name": "python3"
  },
  "language_info": {
   "codemirror_mode": {
    "name": "ipython",
    "version": 3
   },
   "file_extension": ".py",
   "mimetype": "text/x-python",
   "name": "python",
   "nbconvert_exporter": "python",
   "pygments_lexer": "ipython3",
   "version": "3.11.2"
  }
 },
 "nbformat": 4,
 "nbformat_minor": 5
}
